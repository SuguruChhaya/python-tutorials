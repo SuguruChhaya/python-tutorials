{
 "metadata": {
  "language_info": {
   "codemirror_mode": {
    "name": "ipython",
    "version": 3
   },
   "file_extension": ".py",
   "mimetype": "text/x-python",
   "name": "python",
   "nbconvert_exporter": "python",
   "pygments_lexer": "ipython3",
   "version": 3
  },
  "orig_nbformat": 2
 },
 "nbformat": 4,
 "nbformat_minor": 2,
 "cells": [
  {
   "cell_type": "code",
   "execution_count": null,
   "metadata": {},
   "outputs": [],
   "source": [
    "#The part I am confused at is why do we have to include dp[i-1] as well?\n",
    "#If we exclude it, we are just left with maximum until i-1. Then why should I compare with i-2 in that case? Probably do some testing and come up with something. "
   ]
  },
  {
   "cell_type": "code",
   "execution_count": null,
   "metadata": {},
   "outputs": [],
   "source": [
    "#1. Brute force approach. Generate all subsets where array is non-adjacent. The thing is that I don't know how to do that as well.\n",
    "#Rather than doing the recursive BS, I should first find ALL possible sublists then remove ones that include .\n",
    "\n",
    "#OK so what I can do. (The brute force is probably the hardest to code so weird.)\n",
    "#Use brute force to find all possible subarrays. I can later on use a more efficient algorithm to solve it better. \n",
    "#For each array in brute force, I can loop through them trying to find adjacent ones and AGAIN try to build an algorithm to find out all ways I can remove items so there are no adjacent elements...\n",
    "\n",
    "#Compared to this, the recursive brute force solution seems much easier to understand. \n",
    "#I will loop through every element in the array. The starting index will be i. \n",
    "#Since I don't know how I am supposed to find all non adjacent ones brute force, I am gonna give up boi. \n",
    "def maxSubsetSum(arr):\n",
    "\n",
    "arr = [5, 1, 4, 3, 1]"
   ]
  },
  {
   "cell_type": "code",
   "execution_count": null,
   "metadata": {},
   "outputs": [],
   "source": []
  }
 ]
}