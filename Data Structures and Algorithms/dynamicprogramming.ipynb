{
 "metadata": {
  "language_info": {
   "codemirror_mode": {
    "name": "ipython",
    "version": 3
   },
   "file_extension": ".py",
   "mimetype": "text/x-python",
   "name": "python",
   "nbconvert_exporter": "python",
   "pygments_lexer": "ipython3",
   "version": "3.9.1-final"
  },
  "orig_nbformat": 2,
  "kernelspec": {
   "name": "python3",
   "display_name": "Python 3.9.1 64-bit",
   "metadata": {
    "interpreter": {
     "hash": "2dc8e386e97f23e67acaeb3d537162f96201c1caab10bc6a07b46ad5eff94fc1"
    }
   }
  }
 },
 "nbformat": 4,
 "nbformat_minor": 2,
 "cells": [
  {
   "cell_type": "code",
   "execution_count": null,
   "metadata": {},
   "outputs": [],
   "source": [
    "'''\n",
    "Dynammic programming is similar to recursion in the sense that they have a base case. \n",
    "The main difference in terms of the staircase problem is that in a dynamic programming approach, I will store cached results so that once I calculate values once, I just need to look it up and I won't have to calculate it again all over again like recursion. Overall, dynamic programming uses a lot more memory but is faster. We are re-using answers to sub-problems to solve a bigger problem. \n",
    "\n",
    "Usually we have a lookup table. We access them by index so loop up time for searching up by index is O(1). \n",
    "\n",
    "Another key aspect is that we add new values to the lookup table/array using pre-computer values. This technique is called memoization. \n",
    "\n",
    "If I can break problems down to subproblems (like recursion), I can usually use dynamic programming to improve my answer. \n",
    "\n",
    "Memoization is typically solving things top-bottom, meaning we solve things recursively and then access already computer results. \n",
    "\n",
    "Dynamic programming is usually solving bottom-up, meaning we are doing things iteratively rather than recursively, first solving all the subsets so we don't have to do any recursion. \n",
    "\n",
    "'''"
   ]
  },
  {
   "cell_type": "code",
   "execution_count": 2,
   "metadata": {},
   "outputs": [
    {
     "output_type": "stream",
     "name": "stdout",
     "text": [
      "1\n"
     ]
    }
   ],
   "source": [
    "#The recursive staircase problem explained\n",
    "#Problem type #1. Can take only 1 step or 2 steps. \n",
    "'''\n",
    "The basic idea is there is only 2 ways I can advance in the first try: taking 1 step or 2 steps. \n",
    "[0, 1] or [0, 2]\n",
    "We are currently at 0.\n",
    "\n",
    "For example if we had to go up 3 steps this way and if we go up 1 step at the beginning, we just need to go up 2 steps. # of possibilites 1 step + # of possibilities 2 steps = 1+2 = 3\n",
    "\n",
    "In general, the formula here is numways(n) = numways(n-1) + numways(n-2) \n",
    "\n",
    "base cases n=0 and 1\n",
    "\n",
    "Doing this just like fibonnaci isn't the most efficient way to do things. \n",
    "This is because when we find find nw(4) by drawing branches, we will find how we have to solve nw(2) 2 times. This is a waste and we just want to store the first info somewhere so we can just pull it up. \n",
    "We fix this by dynamic programming. \n",
    "\n",
    "Can implement it using a bottom-up approach. \n",
    "\n",
    "\n",
    "'''\n",
    "\n",
    "def num_ways(n):\n",
    "    if n==0 or n==1:\n",
    "        return 1\n",
    "\n",
    "    else:\n",
    "        return num_ways(n-1) + num_ways(n-2)\n",
    "\n",
    "#But how exactly do I implement this bottom up?\n",
    "#I understand this bottom up approach. I just have to make sure python list takes up space. \n",
    "def num_ways_bottom_up(n):\n",
    "    if n == 0 or n==1:\n",
    "        return 1\n",
    "    #For when there are 0 steps and 1 step. \n",
    "    nums = [1, 1]\n",
    "    #Really, we only need the 2 previous elements as we go over this. This saves space. \n",
    "    #Python has an array problem\n",
    "    for i in range(2, n+1):\n",
    "        nums.append(None)\n",
    "\n",
    "    for i in range(2, n+1):\n",
    "        nums[i] = nums[i - 1] + nums[i-2]\n",
    "    return nums[n]\n",
    "\n",
    "print(num_ways_bottom_up(1))"
   ]
  },
  {
   "cell_type": "code",
   "execution_count": 16,
   "metadata": {},
   "outputs": [
    {
     "output_type": "stream",
     "name": "stdout",
     "text": [
      "5\n"
     ]
    }
   ],
   "source": [
    "#Solution to variation: the numbers in the set are 1, 3, and 5\n",
    "'''\n",
    "num_ways(n) = num_ways(n-1) + num_ways(n-3) + num_ways(n-5)\n",
    "\n",
    "'''\n",
    "def num_ways(n):\n",
    "    if n==0 or n==1:\n",
    "        return 1\n",
    "    #No else statement here. \n",
    "    return num_ways(n-1) + num_ways(n-2)\n",
    "\n",
    "def num_ways_X(n):\n",
    "    if n==0:\n",
    "        return 1\n",
    "    #The below line won't work because if n = 2, num_ways(n-3) will not work at all. \n",
    "    #return num_ways_X(n-1) + num_ways(n-3) + num_ways(n-5)\n",
    "    total = 0\n",
    "    for i in {1, 3, 5}:\n",
    "        if n-i >=0:\n",
    "            #But as we seen before, this isn't the most efficient way to do it. \n",
    "            #This makes intuitive sense because we are just adding the cases for them. \n",
    "            total += num_ways_X(n - i)\n",
    "    return total\n",
    "\n",
    "def num_ways_X_bottom_up(n):\n",
    "    if n==0:\n",
    "        return 1\n",
    "    #We are not going to do [1, 1] because we don't know whether a number greater than 2 will be in the set. \n",
    "\n",
    "    #Python has a list problem. Unlike programs in java where you could specify the length of an array, I cannot just specify index and keep adding. \n",
    "    \n",
    "    nums = [1]\n",
    "\n",
    "    for i in range(1, n+1):\n",
    "        nums.append(None)\n",
    "\n",
    "    for i in range(1, n+1):\n",
    "        total = 0\n",
    "        #If I need to replace this set, I can just pass another extra parameter. \n",
    "        for j in {1, 3, 5}:\n",
    "            #We are setting the if statemenet so that things don't get messed up when I get a 2 step staircase and if I get the chance to go up by 5s. \n",
    "            if i - j >=0:\n",
    "                #nums[i - j] corresponds to num_ways_X(i-j). Number of ways we can climb i-j steps.\n",
    "                total += nums[i - j]\n",
    "        #Number of ways I can climb for i steps.\n",
    "        nums[i] = total\n",
    "    return nums[n]\n",
    "\n",
    "print(num_ways_X_bottom_up(5))\n",
    "\n",
    "\n"
   ]
  },
  {
   "cell_type": "code",
   "execution_count": 1,
   "metadata": {},
   "outputs": [
    {
     "output_type": "stream",
     "name": "stdout",
     "text": [
      "[]\n"
     ]
    },
    {
     "output_type": "error",
     "ename": "IndexError",
     "evalue": "list index out of range",
     "traceback": [
      "\u001b[1;31m---------------------------------------------------------------------------\u001b[0m",
      "\u001b[1;31mIndexError\u001b[0m                                Traceback (most recent call last)",
      "\u001b[1;32m<ipython-input-1-b871c8511df5>\u001b[0m in \u001b[0;36m<module>\u001b[1;34m\u001b[0m\n\u001b[0;32m     21\u001b[0m     \u001b[1;32mreturn\u001b[0m \u001b[0mmemo\u001b[0m\u001b[1;33m[\u001b[0m\u001b[0mn\u001b[0m\u001b[1;33m]\u001b[0m\u001b[1;33m\u001b[0m\u001b[1;33m\u001b[0m\u001b[0m\n\u001b[0;32m     22\u001b[0m \u001b[1;33m\u001b[0m\u001b[0m\n\u001b[1;32m---> 23\u001b[1;33m \u001b[0mprint\u001b[0m\u001b[1;33m(\u001b[0m\u001b[0mcountPathsMemo\u001b[0m\u001b[1;33m(\u001b[0m\u001b[1;36m5\u001b[0m\u001b[1;33m,\u001b[0m \u001b[1;33m[\u001b[0m\u001b[1;33m]\u001b[0m\u001b[1;33m)\u001b[0m\u001b[1;33m)\u001b[0m\u001b[1;33m\u001b[0m\u001b[1;33m\u001b[0m\u001b[0m\n\u001b[0m\u001b[0;32m     24\u001b[0m \u001b[1;33m\u001b[0m\u001b[0m\n\u001b[0;32m     25\u001b[0m \u001b[0mprint\u001b[0m\u001b[1;33m(\u001b[0m\u001b[0mnum_ways_X_bottom_up\u001b[0m\u001b[1;33m(\u001b[0m\u001b[1;36m5\u001b[0m\u001b[1;33m)\u001b[0m\u001b[1;33m)\u001b[0m\u001b[1;33m\u001b[0m\u001b[1;33m\u001b[0m\u001b[0m\n",
      "\u001b[1;32m<ipython-input-1-b871c8511df5>\u001b[0m in \u001b[0;36mcountPathsMemo\u001b[1;34m(num_steps, memo)\u001b[0m\n\u001b[0;32m     16\u001b[0m         \u001b[1;32mreturn\u001b[0m \u001b[1;36m1\u001b[0m\u001b[1;33m\u001b[0m\u001b[1;33m\u001b[0m\u001b[0m\n\u001b[0;32m     17\u001b[0m     \u001b[0mprint\u001b[0m\u001b[1;33m(\u001b[0m\u001b[0mmemo\u001b[0m\u001b[1;33m)\u001b[0m\u001b[1;33m\u001b[0m\u001b[1;33m\u001b[0m\u001b[0m\n\u001b[1;32m---> 18\u001b[1;33m     \u001b[1;32mif\u001b[0m \u001b[0mmemo\u001b[0m\u001b[1;33m[\u001b[0m\u001b[0mnum_steps\u001b[0m\u001b[1;33m]\u001b[0m \u001b[1;33m==\u001b[0m \u001b[1;32mNone\u001b[0m\u001b[1;33m:\u001b[0m\u001b[1;33m\u001b[0m\u001b[1;33m\u001b[0m\u001b[0m\n\u001b[0m\u001b[0;32m     19\u001b[0m         \u001b[0mmemo\u001b[0m\u001b[1;33m[\u001b[0m\u001b[0mnum_steps\u001b[0m\u001b[1;33m]\u001b[0m \u001b[1;33m=\u001b[0m \u001b[0mcountPathsMemo\u001b[0m\u001b[1;33m(\u001b[0m\u001b[0mnum_steps\u001b[0m \u001b[1;33m-\u001b[0m \u001b[1;36m1\u001b[0m\u001b[1;33m,\u001b[0m \u001b[0mmemo\u001b[0m\u001b[1;33m)\u001b[0m \u001b[1;33m+\u001b[0m \u001b[0mcountPathsMemo\u001b[0m\u001b[1;33m(\u001b[0m\u001b[0mnum_steps\u001b[0m \u001b[1;33m-\u001b[0m \u001b[1;36m2\u001b[0m\u001b[1;33m,\u001b[0m \u001b[0mmemo\u001b[0m\u001b[1;33m)\u001b[0m \u001b[1;33m+\u001b[0m \u001b[0mcountPathsMemo\u001b[0m\u001b[1;33m(\u001b[0m\u001b[0mnum_steps\u001b[0m \u001b[1;33m-\u001b[0m \u001b[1;36m3\u001b[0m\u001b[1;33m,\u001b[0m \u001b[0mmemo\u001b[0m\u001b[1;33m)\u001b[0m\u001b[1;33m\u001b[0m\u001b[1;33m\u001b[0m\u001b[0m\n\u001b[0;32m     20\u001b[0m \u001b[1;33m\u001b[0m\u001b[0m\n",
      "\u001b[1;31mIndexError\u001b[0m: list index out of range"
     ]
    }
   ],
   "source": [
    "#I still didn't know how I can actually implement this. \n",
    "#Hackerrank approach\n",
    "\n",
    "#To use dynamic programming, I obviously have to have a list as a parameter or a global variable.\n",
    "'''\n",
    "Memo is a list object. \n",
    "Since I want to store 0 steps and all the num steps, the array will by of size num_steps + 1\n",
    "\n",
    "I am quite confused why this is not working and coderdojo isn't good as well. \n",
    "'''\n",
    "\n",
    "def countPathsMemo(num_steps, memo):\n",
    "    if num_steps < 0:\n",
    "        return 0\n",
    "    elif num_steps == 0:\n",
    "        return 1\n",
    "    print(memo)\n",
    "    if memo[num_steps] == None:\n",
    "        memo[num_steps] = countPathsMemo(num_steps - 1, memo) + countPathsMemo(num_steps - 2, memo) + countPathsMemo(num_steps - 3, memo)\n",
    "\n",
    "    return memo[n]\n",
    "\n",
    "print(countPathsMemo(5, []))\n",
    "\n",
    "print(num_ways_X_bottom_up(5))"
   ]
  },
  {
   "cell_type": "code",
   "execution_count": 27,
   "metadata": {},
   "outputs": [
    {
     "output_type": "stream",
     "name": "stdout",
     "text": [
      "1\n"
     ]
    }
   ],
   "source": [
    "#1. The solution to the specific hackerrank problem in least space efficient way. Since naive recursion approach doesn't pass time, In this case I can take 1, 2, or 3 steps. \n",
    " \n",
    "def stepPerms(n):\n",
    "    if n == 0:\n",
    "        return 1\n",
    "    \n",
    "    #0 step and 1 step\n",
    "    nums = [1, 1, 2]\n",
    "\n",
    "    #Because Python doesn't reserve space. \n",
    "    for i in range(3, n+1):\n",
    "        nums.append(None)\n",
    "\n",
    "    for i in range(3, n+1):\n",
    "        nums[i] = nums[i - 1] + nums[i-2] + nums[i - 3]\n",
    "    return nums[n]\n",
    "\n"
   ]
  },
  {
   "cell_type": "code",
   "execution_count": 51,
   "metadata": {},
   "outputs": [
    {
     "output_type": "stream",
     "name": "stdout",
     "text": [
      "24\n"
     ]
    }
   ],
   "source": [
    "#2. The solution to the hackerrank problem in a more space efficient way using bottom up approach. We are only going to store 3 elements in the list that is required to solve the problem. \n",
    "def stepPerms(n):\n",
    "    #We have to specify base case for 0 steps and 1 step. \n",
    "    if n == 0 or n==1:\n",
    "        return 1\n",
    "\n",
    "    nums = [1, 1, 2]\n",
    "\n",
    "    for i in range(3, n+1):\n",
    "        nums[0], nums[1], nums[2] = nums[1],  nums[2], nums[0] + nums[1]+ nums[2]\n",
    "    return nums[2]\n",
    "\n",
    "print(stepPerms(6))"
   ]
  },
  {
   "cell_type": "code",
   "execution_count": null,
   "metadata": {},
   "outputs": [],
   "source": [
    "#3. A general case with the minimum amount of space complexity. You would usually pass in the set as a parameter but for the sake of a valid solution on hackerrank, I will declare in function. \n",
    "def stepPerms(n):\n",
    "    if n == 0:\n",
    "        return 1\n",
    "\n",
    "    steps = {1, 2, 3}\n",
    "\n",
    "    nums = [1]\n",
    "\n",
    "    #We need to block up space for 0 steps (1 item) + len(steps) number of items. \n",
    "    for i in range(1, n+1):\n",
    "        nums.append(None)\n",
    "\n",
    "    for i in range(1, n+1):\n",
    "        total = 0\n",
    "        for j in steps:\n",
    "            if i - j >= 0:\n",
    "                #This total statement is the little confusing one. \n",
    "                total += nums[i - j]\n",
    "\n",
    "        nums[i] = total\n",
    "    return nums[n]\n",
    "\n",
    "\n",
    "    for i in range(1, n+1):\n",
    "        nums.append(None)\n",
    "\n",
    "    for i in range(1, n+1):\n",
    "        total = 0\n",
    "        #If I need to replace this set, I can just pass another extra parameter. \n",
    "        for j in {1, 3, 5}:\n",
    "            #We are setting the if statemenet so that things don't get messed up when I get a 2 step staircase and if I get the chance to go up by 5s. \n",
    "            if i - j >=0:\n",
    "                #nums[i - j] corresponds to num_ways_X(i-j). Number of ways we can climb i-j steps.\n",
    "                total += nums[i - j]\n",
    "        #Number of ways I can climb for i steps.\n",
    "        nums[i] = total\n",
    "    return nums[n]"
   ]
  },
  {
   "cell_type": "code",
   "execution_count": 10,
   "metadata": {},
   "outputs": [
    {
     "output_type": "stream",
     "name": "stdout",
     "text": [
      "24\n"
     ]
    }
   ],
   "source": [
    "#4. 4th scenario with a memoization approach, which is top to bottom. Uses recursion but also lookup. \n",
    "\n",
    "#Since the problem only passes one parameter, this is like a wrapper function, which calls another functon. \n",
    "\n",
    "def stepPermsMain(n, memo):\n",
    "    if n in [0, 1]:\n",
    "        return 1\n",
    "    elif n < 0:\n",
    "        return 0\n",
    "    if memo[n] == None:\n",
    "        memo[n] = stepPermsMain(n - 1, memo) + stepPermsMain(n - 2, memo) + stepPermsMain(n - 3, memo)\n",
    "    return memo[n]\n",
    "    \n",
    "def stepPerms(n):\n",
    "    #Base cases\n",
    "    memo = [1, 1]\n",
    "    for i in range(2, n+1):\n",
    "        memo.append(None)\n",
    "    return stepPermsMain(n, memo)\n",
    "\n"
   ]
  },
  {
   "cell_type": "code",
   "execution_count": 18,
   "metadata": {},
   "outputs": [
    {
     "output_type": "stream",
     "name": "stdout",
     "text": [
      "24\n"
     ]
    }
   ],
   "source": [
    "#5. Memoization approach made more general even though more time complexity. For the sake of the hackerrank problem, I will define the set inside the wrapper function, but usually you would pass the set. \n",
    "\n",
    "def stepPermsMain(n, memo, steps):\n",
    "    if n in [0, 1]:\n",
    "        return 1\n",
    "    elif n < 0:\n",
    "        return 0\n",
    "    if memo[n] == None:\n",
    "        total = 0\n",
    "        for i in steps:\n",
    "            if n - i >= 0:\n",
    "                #No guarantee that this is also calculated. \n",
    "                total += stepPermsMain(n-i, memo, steps)\n",
    "        memo[n] = total\n",
    "    return memo[n]\n",
    "\n",
    "\n",
    "\n",
    "\n",
    "\n",
    "def stepPerms(n):\n",
    "    steps = {1, 2, 3}\n",
    "    memo = [1]\n",
    "    for i in range(1, n+1):\n",
    "        memo.append(None)\n",
    "\n",
    "    return stepPermsMain(n, memo, steps)\n",
    "\n",
    "print(stepPerms(6))"
   ]
  },
  {
   "cell_type": "code",
   "execution_count": null,
   "metadata": {},
   "outputs": [],
   "source": [
    "#Solving the fibonnaci problem using bottom-up dynamic programming approach. \n",
    "def fibonnaci(n):\n",
    "    if n == 0 or n==1:\n",
    "        return 1\n",
    "    nums = [1]\n",
    "    #If these numbers are like [1, 1]"
   ]
  }
 ]
}