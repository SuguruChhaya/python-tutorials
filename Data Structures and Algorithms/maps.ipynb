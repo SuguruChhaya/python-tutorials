{
 "metadata": {
  "language_info": {
   "codemirror_mode": {
    "name": "ipython",
    "version": 3
   },
   "file_extension": ".py",
   "mimetype": "text/x-python",
   "name": "python",
   "nbconvert_exporter": "python",
   "pygments_lexer": "ipython3",
   "version": "3.9.1-final"
  },
  "orig_nbformat": 2,
  "kernelspec": {
   "name": "python3",
   "display_name": "Python 3.9.1 64-bit",
   "metadata": {
    "interpreter": {
     "hash": "2dc8e386e97f23e67acaeb3d537162f96201c1caab10bc6a07b46ad5eff94fc1"
    }
   }
  }
 },
 "nbformat": 4,
 "nbformat_minor": 2,
 "cells": [
  {
   "cell_type": "code",
   "execution_count": null,
   "metadata": {},
   "outputs": [],
   "source": [
    "#maps and dictionaries are pretty much the same thing. "
   ]
  },
  {
   "cell_type": "code",
   "execution_count": 6,
   "metadata": {},
   "outputs": [
    {
     "output_type": "stream",
     "name": "stdout",
     "text": [
      "{1, 2}\n"
     ]
    }
   ],
   "source": [
    "#Sets: no repeated, not ordered. \n",
    "'''\n",
    "Map is a set based datastructure\n",
    "'''\n",
    "\n",
    "a = {1, 2, 2}\n",
    "print(a)"
   ]
  },
  {
   "cell_type": "code",
   "execution_count": 31,
   "metadata": {},
   "outputs": [
    {
     "output_type": "stream",
     "name": "stdout",
     "text": [
      "1\nAtlanta\nMountain View\n2\nBangalore - India\nShanghai - China\n"
     ]
    },
    {
     "output_type": "execute_result",
     "data": {
      "text/plain": [
       "'Print the following (using \"print\").\\n1. A list of all cities in the USA in\\nalphabetic order.\\n2. All cities in Asia, in alphabetic\\norder, next to the name of the country.\\nIn your output, label each answer with a number\\nso it looks like this:\\n1\\nAmerican City\\nAmerican City\\n2\\nAsian City - Country\\nAsian City - Country'"
      ]
     },
     "metadata": {},
     "execution_count": 31
    }
   ],
   "source": [
    "\"\"\"Time to play with Python dictionaries!\n",
    "You're going to work on a dictionary that\n",
    "stores cities by country and continent.\n",
    "One is done for you - the city of Mountain \n",
    "View is in the USA, which is in North America.\n",
    "\n",
    "You need to add the cities listed below by\n",
    "modifying the structure.\n",
    "Then, you should print out the values specified\n",
    "by looking them up in the structure.\n",
    "\n",
    "Cities to add:\n",
    "Bangalore (India, Asia)\n",
    "Atlanta (USA, North America)\n",
    "Cairo (Egypt, Africa)\n",
    "Shanghai (China, Asia)\"\"\"\n",
    "\n",
    "locations = {'North America': {'USA': ['Mountain View']}}\n",
    "\n",
    "locations['Asia'] = {}\n",
    "locations['Asia']['India'] = 'Bangalore'\n",
    "locations['North America']['USA'].append('Atlanta')\n",
    "locations['Africa'] = {}\n",
    "locations['Africa']['Egypt'] = 'Cairo'\n",
    "locations['Asia']['China'] = 'Shanghai'\n",
    "\n",
    "\n",
    "print(1)\n",
    "for city in sorted(locations['North America']['USA']):\n",
    "    print(city)\n",
    "\n",
    "print(2)\n",
    "#I just have to sort in alphabetical order. \n",
    "asia_list = []\n",
    "for city in sorted(locations['Asia'].values()):\n",
    "    asia_list.append(city)\n",
    "\n",
    "for city in asia_list:\n",
    "    #Now I just have to look up the country by the value. \n",
    "    for country in locations['Asia'].keys():\n",
    "        if locations['Asia'][country] == city:\n",
    "            print(city + \" - \" + country)\n",
    "\n",
    "\n",
    "\"\"\"Print the following (using \"print\").\n",
    "1. A list of all cities in the USA in\n",
    "alphabetic order.\n",
    "2. All cities in Asia, in alphabetic\n",
    "order, next to the name of the country.\n",
    "In your output, label each answer with a number\n",
    "so it looks like this:\n",
    "1\n",
    "American City\n",
    "American City\n",
    "2\n",
    "Asian City - Country\n",
    "Asian City - Country\"\"\""
   ]
  }
 ]
}