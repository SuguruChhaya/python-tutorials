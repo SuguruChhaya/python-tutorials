{
 "metadata": {
  "language_info": {
   "codemirror_mode": {
    "name": "ipython",
    "version": 3
   },
   "file_extension": ".py",
   "mimetype": "text/x-python",
   "name": "python",
   "nbconvert_exporter": "python",
   "pygments_lexer": "ipython3",
   "version": "3.9.1-final"
  },
  "orig_nbformat": 2,
  "kernelspec": {
   "name": "python3",
   "display_name": "Python 3.9.1 64-bit",
   "metadata": {
    "interpreter": {
     "hash": "2dc8e386e97f23e67acaeb3d537162f96201c1caab10bc6a07b46ad5eff94fc1"
    }
   }
  }
 },
 "nbformat": 4,
 "nbformat_minor": 2,
 "cells": [
  {
   "cell_type": "code",
   "execution_count": null,
   "metadata": {},
   "outputs": [],
   "source": [
    "#Doesn't include the naive recrsive approach. Includes approaches using dynamic programming, recursion, efficient time complexity, and generalization of input (number of steps I can take. )"
   ]
  },
  {
   "cell_type": "code",
   "execution_count": null,
   "metadata": {},
   "outputs": [],
   "source": [
    "#1. The solution to the specific hackerrank problem in least space efficient way. Since naive recursion approach doesn't pass time, In this case I can take 1, 2, or 3 steps. \n",
    " \n",
    "def stepPerms(n):\n",
    "    if n == 0:\n",
    "        return 1\n",
    "    \n",
    "    #0 step and 1 step\n",
    "    nums = [1, 1, 2]\n",
    "\n",
    "    #Because Python doesn't reserve space. \n",
    "    for i in range(3, n+1):\n",
    "        nums.append(None)\n",
    "\n",
    "    for i in range(3, n+1):\n",
    "        nums[i] = nums[i - 1] + nums[i-2] + nums[i - 3]\n",
    "    return nums[n]\n",
    "\n"
   ]
  },
  {
   "cell_type": "code",
   "execution_count": null,
   "metadata": {},
   "outputs": [],
   "source": [
    "#2. The solution to the hackerrank problem in a more space efficient way using bottom up approach. We are only going to store 3 elements in the list that is required to solve the problem. \n",
    "def stepPerms(n):\n",
    "    #We have to specify base case for 0 steps and 1 step. \n",
    "    if n == 0 or n==1:\n",
    "        return 1\n",
    "\n",
    "    nums = [1, 1, 2]\n",
    "\n",
    "    for i in range(3, n+1):\n",
    "        nums[0], nums[1], nums[2] = nums[1],  nums[2], nums[0] + nums[1]+ nums[2]\n",
    "    return nums[2]\n",
    "\n",
    "print(stepPerms(6))"
   ]
  },
  {
   "cell_type": "code",
   "execution_count": null,
   "metadata": {},
   "outputs": [],
   "source": [
    "#3. A general case with the minimum amount of space complexity. You would usually pass in the set as a parameter but for the sake of a valid solution on hackerrank, I will declare in function. \n",
    "def stepPerms(n):\n",
    "    if n == 0:\n",
    "        return 1\n",
    "\n",
    "    steps = {1, 2, 3}\n",
    "\n",
    "    nums = [1]\n",
    "\n",
    "    #We need to block up space for 0 steps (1 item) + len(steps) number of items. \n",
    "    for i in range(1, n+1):\n",
    "        nums.append(None)\n",
    "\n",
    "    for i in range(1, n+1):\n",
    "        total = 0\n",
    "        for j in steps:\n",
    "            if i - j >= 0:\n",
    "                #This total statement is the little confusing one. \n",
    "                total += nums[i - j]\n",
    "\n",
    "        nums[i] = total\n",
    "    return nums[n]\n",
    "\n",
    "\n",
    "    for i in range(1, n+1):\n",
    "        nums.append(None)\n",
    "\n",
    "    for i in range(1, n+1):\n",
    "        total = 0\n",
    "        #If I need to replace this set, I can just pass another extra parameter. \n",
    "        for j in {1, 3, 5}:\n",
    "            #We are setting the if statemenet so that things don't get messed up when I get a 2 step staircase and if I get the chance to go up by 5s. \n",
    "            if i - j >=0:\n",
    "                #nums[i - j] corresponds to num_ways_X(i-j). Number of ways we can climb i-j steps.\n",
    "                total += nums[i - j]\n",
    "        #Number of ways I can climb for i steps.\n",
    "        nums[i] = total\n",
    "    return nums[n]"
   ]
  },
  {
   "cell_type": "code",
   "execution_count": null,
   "metadata": {},
   "outputs": [],
   "source": [
    "#4. 4th scenario with a memoization approach, which is top to bottom. Uses recursion but also lookup. \n",
    "\n",
    "#Since the problem only passes one parameter, this is like a wrapper function, which calls another functon. \n",
    "\n",
    "def stepPermsMain(n, memo):\n",
    "    if n in [0, 1]:\n",
    "        return 1\n",
    "    elif n < 0:\n",
    "        return 0\n",
    "    if memo[n] == None:\n",
    "        memo[n] = stepPermsMain(n - 1, memo) + stepPermsMain(n - 2, memo) + stepPermsMain(n - 3, memo)\n",
    "    return memo[n]\n",
    "    \n",
    "def stepPerms(n):\n",
    "    #Base cases\n",
    "    memo = [1, 1]\n",
    "    for i in range(2, n+1):\n",
    "        memo.append(None)\n",
    "    return stepPermsMain(n, memo)\n",
    "\n"
   ]
  },
  {
   "cell_type": "code",
   "execution_count": null,
   "metadata": {},
   "outputs": [],
   "source": [
    "#5. Memoization approach made more general even though more time complexity. For the sake of the hackerrank problem, I will define the set inside the wrapper function, but usually you would pass the set. \n",
    "\n",
    "def stepPermsMain(n, memo, steps):\n",
    "    if n in [0, 1]:\n",
    "        return 1\n",
    "    elif n < 0:\n",
    "        return 0\n",
    "    if memo[n] == None:\n",
    "        total = 0\n",
    "        for i in steps:\n",
    "            if n - i >= 0:\n",
    "                #No guarantee that this is also calculated. \n",
    "                total += stepPermsMain(n-i, memo, steps)\n",
    "        memo[n] = total\n",
    "    return memo[n]\n",
    "\n",
    "\n",
    "\n",
    "\n",
    "\n",
    "def stepPerms(n):\n",
    "    steps = {1, 2, 3}\n",
    "    memo = [1]\n",
    "    for i in range(1, n+1):\n",
    "        memo.append(None)\n",
    "\n",
    "    return stepPermsMain(n, memo, steps)\n",
    "\n",
    "print(stepPerms(6))"
   ]
  },
  {
   "cell_type": "code",
   "execution_count": 1,
   "metadata": {},
   "outputs": [
    {
     "output_type": "stream",
     "name": "stdout",
     "text": [
      "[7]\n"
     ]
    }
   ],
   "source": []
  }
 ]
}