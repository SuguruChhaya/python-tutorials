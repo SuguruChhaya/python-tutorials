{
 "metadata": {
  "language_info": {
   "codemirror_mode": {
    "name": "ipython",
    "version": 3
   },
   "file_extension": ".py",
   "mimetype": "text/x-python",
   "name": "python",
   "nbconvert_exporter": "python",
   "pygments_lexer": "ipython3",
   "version": 3
  },
  "orig_nbformat": 2
 },
 "nbformat": 4,
 "nbformat_minor": 2,
 "cells": [
  {
   "cell_type": "code",
   "execution_count": null,
   "metadata": {},
   "outputs": [],
   "source": [
    "\"\"\"Implement quick sort in Python.\n",
    "Input a list.\n",
    "Output a sorted list.\"\"\"\n",
    "def quicksort(array):\n",
    "    pivot_index = len(array) - 1\n",
    "    while True:\n",
    "        for i in len(array):\n",
    "            if array[i] > array[pivot_index]:\n",
    "                large_element = array[i]\n",
    "                small_element = array[pivot_index]\n",
    "                previous_element = array[pivot_index - 1]\n",
    "                array[i] = previous_element\n",
    "                array[pivot_index] = large_element\n",
    "                array[pivot_index - 1] = small_element\n",
    "                pivot_index -= 1\n",
    "                #Have to reset the pivot_index so it points at the correct value. \n",
    "                break\n",
    "\n",
    "\n",
    "\n",
    "test = [21, 4, 1, 3, 9, 20, 25, 6, 21, 14]\n",
    "print(quicksort(test))"
   ]
  }
 ]
}