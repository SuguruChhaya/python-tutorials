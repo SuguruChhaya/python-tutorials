{
 "metadata": {
  "language_info": {
   "codemirror_mode": {
    "name": "ipython",
    "version": 3
   },
   "file_extension": ".py",
   "mimetype": "text/x-python",
   "name": "python",
   "nbconvert_exporter": "python",
   "pygments_lexer": "ipython3",
   "version": "3.9.1-final"
  },
  "orig_nbformat": 2,
  "kernelspec": {
   "name": "python3",
   "display_name": "Python 3.9.1 64-bit",
   "metadata": {
    "interpreter": {
     "hash": "2dc8e386e97f23e67acaeb3d537162f96201c1caab10bc6a07b46ad5eff94fc1"
    }
   }
  }
 },
 "nbformat": 4,
 "nbformat_minor": 2,
 "cells": [
  {
   "cell_type": "code",
   "execution_count": 29,
   "metadata": {
    "tags": []
   },
   "outputs": [
    {
     "output_type": "stream",
     "name": "stdout",
     "text": [
      "-1\n4\n-1\n"
     ]
    }
   ],
   "source": [
    "\"\"\"You're going to write a binary search function.\n",
    "You should use an iterative approach - meaning\n",
    "using loops.\n",
    "Your function should take two inputs:\n",
    "a Python list to search through, and the value\n",
    "you're searching for.\n",
    "Assume the list only has distinct elements,\n",
    "meaning there are no repeated values, and \n",
    "elements are in a strictly increasing order.\n",
    "Return the index of value, or -1 if the value\n",
    "doesn't exist in the list.\"\"\"\n",
    "\n",
    "def binary_search(input_array, value):\n",
    "    \"\"\"Your code goes here.\"\"\"\n",
    "    upperbound = len(input_array)-1\n",
    "    lowerbound = 0\n",
    "    valueIndex = None\n",
    "    while True:\n",
    "        #I have to consider the condition when there is a difference of 1. \n",
    "        if lowerbound + 1 == upperbound:\n",
    "\n",
    "            if input_array[upperbound] == value:\n",
    "                return upperbound\n",
    "            else:\n",
    "                return -1\n",
    "\n",
    "        elif not (lowerbound == upperbound):\n",
    "            averageIndex = int((lowerbound + upperbound) / 2)\n",
    "            #print(f\"averageIndex: {averageIndex}\")\n",
    "            #print(f\"upperbound: {upperbound}, lowerbound: {lowerbound}\")\n",
    "            if input_array[averageIndex] == value:\n",
    "                return averageIndex\n",
    "            elif input_array[averageIndex] > value:\n",
    "                upperbound = averageIndex\n",
    "            elif input_array[averageIndex] < value:\n",
    "                lowerbound = averageIndex\n",
    "\n",
    "\n",
    "                 \n",
    "\n",
    "test_list = [1,3,9,11,15,19,29]\n",
    "test_val1 = 25\n",
    "test_val2 = 15\n",
    "test_val3 = 1\n",
    "print(binary_search(test_list, test_val1))\n",
    "print(binary_search(test_list, test_val2))\n",
    "print(binary_search(test_list, test_val3))"
   ]
  },
  {
   "cell_type": "code",
   "execution_count": 31,
   "metadata": {},
   "outputs": [
    {
     "output_type": "stream",
     "name": "stdout",
     "text": [
      "smaller\nupperbound: 3, lowerbound: 0\npassing list: [1, 3, 9, 11]\nsmaller\nupperbound: 1, lowerbound: 0\npassing list: [1, 3]\n0\n"
     ]
    }
   ],
   "source": [
    "#Since I have learnt recursion, can't I write the binary search algorithm using recusion?\n",
    "#Using the divide and conquer approach, I can write a binary search algorithm using recursion. \n",
    "#I will choose the lowerbound. \n",
    "def recursiveBinary(input_array, value):\n",
    "    lowerbound = 0\n",
    "    upperbound = len(input_array) -1 \n",
    "    if lowerbound + 1 == upperbound:\n",
    "        #Need to check both ends because program can be pushed to both ends. \n",
    "        if input_array[upperbound] == value:\n",
    "            return upperbound\n",
    "        elif input_array[lowerbound] == value:\n",
    "            return lowerbound\n",
    "        else:\n",
    "            return None\n",
    "\n",
    "\n",
    "    elif not (lowerbound == upperbound):\n",
    "        averageIndex = int((lowerbound + upperbound) / 2)\n",
    "        #*The problem with recursive functions is that the indexes for the original list and the new list don't match. I think I can store them and pass them into the function or I can add or subtract in the return part. \n",
    "        #print(f\"averageIndex: {averageIndex}\")\n",
    "        #print(f\"upperbound: {upperbound}, lowerbound: {lowerbound}\")\n",
    "        if input_array[averageIndex] == value:\n",
    "            return averageIndex\n",
    "        elif value < input_array[averageIndex]:\n",
    "            upperbound = averageIndex\n",
    "            '''\n",
    "            print(\"smaller\")\n",
    "            print(f\"upperbound: {upperbound}, lowerbound: {lowerbound}\")\n",
    "            print(f\"passing list: {input_array[lowerbound: upperbound+1]}\")\n",
    "            '''\n",
    "            try:\n",
    "                return lowerbound + recursiveBinary(input_array=input_array[lowerbound: upperbound+1], value=value)\n",
    "            except TypeError:\n",
    "                return None\n",
    "            \n",
    "        elif value > input_array[averageIndex] :\n",
    "            lowerbound = averageIndex\n",
    "            '''\n",
    "            print(\"higher\")\n",
    "            print(f\"upperbound: {upperbound}, lowerbound: {lowerbound}\")\n",
    "            print(f\"passing list: {input_array[lowerbound: upperbound+1]}\")\n",
    "            '''\n",
    "            #Because of python index numbering I need to add 1 to the upperbound index. \n",
    "            #Problem at the with adding none when the element fundamentally doesn't exist. I need to check before I add. \n",
    "            try:\n",
    "                return averageIndex + recursiveBinary(input_array=input_array[lowerbound: upperbound+1], value=value)\n",
    "            except TypeError:\n",
    "                return None\n",
    "\n",
    "\n",
    "\n",
    "\n",
    "test_list = [1,3,9,11,15,19,29]\n",
    "test_val1 = 25\n",
    "test_val2 = 15\n",
    "test_val3 = 1\n",
    "test_val4 = 29\n",
    "print(recursiveBinary(input_array=test_list, value=test_val1))\n",
    "print(recursiveBinary(input_array=test_list, value=test_val2))\n",
    "print(recursiveBinary(input_array=test_list, value=test_val3))\n",
    "print(recursiveBinary(input_array=test_list, value=test_val4))\n",
    "\n",
    "\n",
    "\n",
    "\n",
    "    "
   ]
  },
  {
   "cell_type": "code",
   "execution_count": 45,
   "metadata": {},
   "outputs": [
    {
     "output_type": "stream",
     "name": "stdout",
     "text": [
      "-1\n4\n0\n"
     ]
    }
   ],
   "source": [
    "#Efficient binary search algorithm. \n",
    "def binary_search(input_array, value):\n",
    "    lowerbound = 0\n",
    "    upperbound = len(input_array) - 1\n",
    "    #Very effective because I no longer need to check whether there are 2 elements in the list or 1 element left in the list and so on. The moment the lower boundary crosses the upperboundary is when all the numbers have been effectively checked. \n",
    "    while lowerbound <= upperbound:\n",
    "        mid = int((lowerbound + upperbound) / 2)\n",
    "        if input_array[mid] == value:\n",
    "            return mid\n",
    "        elif input_array[mid] < value:\n",
    "            #This mid+1 and mid-1 helps prevent the scenario of 2 numbers remaining at the end, one being the mid value all the time and the other one never being checked. It excludes what we already know is higher or lower. \n",
    "            lowerbound = mid +1\n",
    "        else:\n",
    "            upperbound = mid - 1\n",
    "    return -1\n",
    "\n",
    "\n",
    "test_list = [1,3,9,11,15,19,29]\n",
    "test_val1 = 25\n",
    "test_val2 = 15\n",
    "test_val3 = 1\n",
    "print(binary_search(test_list, test_val1))\n",
    "print(binary_search(test_list, test_val2))\n",
    "print(binary_search(test_list, test_val3))"
   ]
  },
  {
   "cell_type": "code",
   "execution_count": 57,
   "metadata": {},
   "outputs": [
    {
     "output_type": "stream",
     "name": "stdout",
     "text": [
      "None\n4\n0\n6\n"
     ]
    }
   ],
   "source": [
    "#The MOST IMPORTANT IDEA FOR THE RECURSIVE ALGORITHM IS TO REUSE THE LIST. DON'T UNNECESSARILY MAKE NEW LISTS AND ADJUST THE INDEXES. JUST PASS IN THE SAME LISTS AS PARAMETERS. NO FINAL ADDING AND STUFF. KEEP IT SIMPLE. \n",
    "\n",
    "#Based on the official answer on the non-recursive binary search, I might be able to improve my recursive binary search function\n",
    "#Since I have learnt recursion, can't I write the binary search algorithm using recusion?\n",
    "#Using the divide and conquer approach, I can write a binary search algorithm using recursion. \n",
    "#I will choose the lowerbound. \n",
    "def recursiveBinary(input_array, value, lowerbound, upperbound):\n",
    "\n",
    "    if lowerbound <= upperbound:\n",
    "        mid = int((lowerbound + upperbound) / 2)\n",
    "        if input_array[mid] == value:\n",
    "            return mid\n",
    "        elif input_array[mid] < value:\n",
    "            lowerbound = mid + 1\n",
    "            return recursiveBinary(input_array=input_array, value=value, lowerbound=lowerbound, upperbound=upperbound)\n",
    "\n",
    "        else:\n",
    "            upperbound = mid - 1\n",
    "            #This +1 thing isn't working so I have to adjust. \n",
    "            return recursiveBinary(input_array=input_array, value=value, lowerbound=lowerbound, upperbound=upperbound)\n",
    "    else:\n",
    "        return None\n",
    "\n",
    "        \n",
    "    '''\n",
    "\n",
    "    if lowerbound + 1 == upperbound:\n",
    "        #Need to check both ends because program can be pushed to both ends. \n",
    "        if input_array[upperbound] == value:\n",
    "            return upperbound\n",
    "        elif input_array[lowerbound] == value:\n",
    "            return lowerbound\n",
    "        else:\n",
    "            return None\n",
    "\n",
    "\n",
    "    elif not (lowerbound == upperbound):\n",
    "        averageIndex = int((lowerbound + upperbound) / 2)\n",
    "        #*The problem with recursive functions is that the indexes for the original list and the new list don't match. I think I can store them and pass them into the function or I can add or subtract in the return part. \n",
    "        #print(f\"averageIndex: {averageIndex}\")\n",
    "        #print(f\"upperbound: {upperbound}, lowerbound: {lowerbound}\")\n",
    "        if input_array[averageIndex] == value:\n",
    "            return averageIndex\n",
    "        elif value < input_array[averageIndex]:\n",
    "            upperbound = averageIndex\n",
    "            \n",
    "            print(\"smaller\")\n",
    "            print(f\"upperbound: {upperbound}, lowerbound: {lowerbound}\")\n",
    "            print(f\"passing list: {input_array[lowerbound: upperbound+1]}\")\n",
    "        \n",
    "            try:\n",
    "                return lowerbound + recursiveBinary(input_array=input_array[lowerbound: upperbound+1], value=value)\n",
    "            except TypeError:\n",
    "                return None\n",
    "            \n",
    "        elif value > input_array[averageIndex] :\n",
    "            lowerbound = averageIndex\n",
    "            \n",
    "            print(\"higher\")\n",
    "            print(f\"upperbound: {upperbound}, lowerbound: {lowerbound}\")\n",
    "            print(f\"passing list: {input_array[lowerbound: upperbound+1]}\")\n",
    "            \n",
    "            #Because of python index numbering I need to add 1 to the upperbound index. \n",
    "            #Problem at the with adding none when the element fundamentally doesn't exist. I need to check before I add. \n",
    "            try:\n",
    "                return averageIndex + recursiveBinary(input_array=input_array[lowerbound: upperbound+1], value=value)\n",
    "            except TypeError:\n",
    "                return None\n",
    "        '''\n",
    "\n",
    "\n",
    "\n",
    "\n",
    "test_list = [1,3,9,11,15,19,29]\n",
    "test_val1 = 25\n",
    "test_val2 = 15\n",
    "test_val3 = 1\n",
    "test_val4 = 29\n",
    "print(recursiveBinary(input_array=test_list, value=test_val1, lowerbound=0, upperbound=len(test_list)-1))\n",
    "print(recursiveBinary(input_array=test_list, value=test_val2, lowerbound=0, upperbound=len(test_list)-1))\n",
    "print(recursiveBinary(input_array=test_list, value=test_val3, lowerbound=0, upperbound=len(test_list)-1))\n",
    "print(recursiveBinary(input_array=test_list, value=test_val4, lowerbound=0, upperbound=len(test_list)-1))    "
   ]
  },
  {
   "cell_type": "code",
   "execution_count": null,
   "metadata": {},
   "outputs": [],
   "source": [
    "#Practice of binary search\n",
    "def binaryIter(arr, value):\n",
    "    lowerbound = 0\n",
    "    upperbound = len(arr) - 1\n",
    "    #\"<=\" because e.g. binary search [1, 2]\n",
    "    if lowerbound <= upperbound:\n",
    "        mid = int((lowerbound + upperbound) / 2)\n",
    "        if arr[mid] == value:\n",
    "            return mid\n",
    "        elif arr[mid] > value:\n",
    "            upperbound = mid - 1\n",
    "        elif arr[mid] < value:\n",
    "            lowerbound = mid + 1\n",
    "    return None\n",
    "\n",
    "arr1 = [2, 3, 1, 67, 74, 3]\n",
    "binaryIter(arr1, 1)\n",
    "\n",
    "            "
   ]
  },
  {
   "cell_type": "code",
   "execution_count": null,
   "metadata": {},
   "outputs": [],
   "source": [
    "#Practice of binary search recursion\n",
    "#Even though the array will be reused, we must have a clear lowerbound and upperbound. \n",
    "def binaryRecur(arr, value, lowerbound, upperbound):\n",
    "    mid = int((lowerbound + upperbound) / 2)\n",
    "    if arr[mid] == value:\n",
    "        return mid\n",
    "    elif arr[mid] > value:\n",
    "        upperbound = mid - 1\n",
    "    elif arr[mid] < value:\n",
    "        lowerbound = mid + 1\n",
    "    #I have to return a value or else nothing recursion doesn't work properly. \n",
    "    return binaryRecur(arr, value, lowerbound, upperbound)\n",
    "\n",
    "arr1 = [2, 3, 1, 67, 74, 3]\n",
    "print(binaryRecur(arr1, 3, 0, len(arr1) -1))\n"
   ]
  },
  {
   "cell_type": "code",
   "execution_count": 11,
   "metadata": {},
   "outputs": [
    {
     "output_type": "stream",
     "name": "stdout",
     "text": [
      "1\n4\nNone\n"
     ]
    }
   ],
   "source": [
    "#Practice binary search iteratively\n",
    "def binarySearch(sortedArr, value):\n",
    "    l = 0\n",
    "    r = len(sortedArr) - 1\n",
    "\n",
    "    while l <= r:\n",
    "\n",
    "        mid = int((l + r)/2)\n",
    "        if sortedArr[mid] == value:\n",
    "            return mid\n",
    "\n",
    "        elif sortedArr[mid] < value:\n",
    "            l = mid + 1\n",
    "        elif sortedArr[mid] > value:\n",
    "            r = mid - 1\n",
    "\n",
    "    return None\n",
    "\n",
    "sortedArr = [1, 3, 5, 12, 67]\n",
    "print(binarySearch(sortedArr, 3))\n",
    "print(binarySearch(sortedArr, 67))\n",
    "print(binarySearch(sortedArr, 2))"
   ]
  },
  {
   "cell_type": "code",
   "execution_count": 12,
   "metadata": {},
   "outputs": [
    {
     "output_type": "stream",
     "name": "stdout",
     "text": [
      "1\n4\nNone\n"
     ]
    }
   ],
   "source": [
    "def binaryRecur(arr, l, r, value):\n",
    "    if l > r:\n",
    "        return None\n",
    "    mid = int((l+r)/2)\n",
    "    if arr[mid] == value:\n",
    "        return mid\n",
    "    elif arr[mid] < value:\n",
    "        l = mid + 1\n",
    "    elif arr[mid] > value:\n",
    "        r = mid - 1\n",
    "    return binaryRecur(arr, l, r, value)\n",
    "\n",
    "arr = [2,5, 8, 9, 11]\n",
    "print(binaryRecur(arr, 0, len(arr)-1, 5))\n",
    "print(binaryRecur(arr, 0, len(arr)-1, 11))\n",
    "print(binaryRecur(arr, 0, len(arr)-1, 6))"
   ]
  }
 ]
}