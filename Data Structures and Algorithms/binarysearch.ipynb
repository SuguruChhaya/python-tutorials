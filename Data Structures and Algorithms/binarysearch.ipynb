{
 "metadata": {
  "language_info": {
   "codemirror_mode": {
    "name": "ipython",
    "version": 3
   },
   "file_extension": ".py",
   "mimetype": "text/x-python",
   "name": "python",
   "nbconvert_exporter": "python",
   "pygments_lexer": "ipython3",
   "version": "3.9.1-final"
  },
  "orig_nbformat": 2,
  "kernelspec": {
   "name": "python3",
   "display_name": "Python 3.9.1 64-bit",
   "metadata": {
    "interpreter": {
     "hash": "2dc8e386e97f23e67acaeb3d537162f96201c1caab10bc6a07b46ad5eff94fc1"
    }
   }
  }
 },
 "nbformat": 4,
 "nbformat_minor": 2,
 "cells": [
  {
   "cell_type": "code",
   "execution_count": 12,
   "metadata": {
    "tags": []
   },
   "outputs": [
    {
     "output_type": "stream",
     "name": "stdout",
     "text": [
      "None\n4\n"
     ]
    }
   ],
   "source": [
    "\"\"\"You're going to write a binary search function.\n",
    "You should use an iterative approach - meaning\n",
    "using loops.\n",
    "Your function should take two inputs:\n",
    "a Python list to search through, and the value\n",
    "you're searching for.\n",
    "Assume the list only has distinct elements,\n",
    "meaning there are no repeated values, and \n",
    "elements are in a strictly increasing order.\n",
    "Return the index of value, or -1 if the value\n",
    "doesn't exist in the list.\"\"\"\n",
    "\n",
    "def binary_search(input_array, value):\n",
    "    \"\"\"Your code goes here.\"\"\"\n",
    "    upperbound = len(input_array)\n",
    "    lowerbound = 0\n",
    "    valueIndex = None\n",
    "    while True:\n",
    "        #I have to consider the condition when there is a difference of 1. \n",
    "        if lowerbound + 1 == upperbound:\n",
    "\n",
    "            if input_array[upperbound] == value:\n",
    "                return upperbound\n",
    "            else:\n",
    "                return -1\n",
    "\n",
    "        elif not (lowerbound == upperbound):\n",
    "            averageIndex = int((lowerbound + upperbound) / 2)\n",
    "            #print(f\"averageIndex: {averageIndex}\")\n",
    "            #print(f\"upperbound: {upperbound}, lowerbound: {lowerbound}\")\n",
    "            if input_array[averageIndex] == value:\n",
    "                return averageIndex\n",
    "            elif input_array[averageIndex] > value:\n",
    "                upperbound = averageIndex\n",
    "            elif input_array[averageIndex] < value:\n",
    "                lowerbound = averageIndex\n",
    "\n",
    "\n",
    "                 \n",
    "\n",
    "test_list = [1,3,9,11,15,19,29]\n",
    "test_val1 = 25\n",
    "test_val2 = 15\n",
    "print(binary_search(test_list, test_val1))\n",
    "print(binary_search(test_list, test_val2))"
   ]
  }
 ]
}