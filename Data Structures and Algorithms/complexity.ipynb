{
 "metadata": {
  "language_info": {
   "codemirror_mode": {
    "name": "ipython",
    "version": 3
   },
   "file_extension": ".py",
   "mimetype": "text/x-python",
   "name": "python",
   "nbconvert_exporter": "python",
   "pygments_lexer": "ipython3",
   "version": "3.9.1-final"
  },
  "orig_nbformat": 2,
  "kernelspec": {
   "name": "python3",
   "display_name": "Python 3.9.1 64-bit",
   "metadata": {
    "interpreter": {
     "hash": "2dc8e386e97f23e67acaeb3d537162f96201c1caab10bc6a07b46ad5eff94fc1"
    }
   }
  }
 },
 "nbformat": 4,
 "nbformat_minor": 2,
 "cells": [
  {
   "cell_type": "code",
   "execution_count": 18,
   "metadata": {},
   "outputs": [
    {
     "output_type": "stream",
     "name": "stdout",
     "text": [
      "Suguru\n"
     ]
    }
   ],
   "source": [
    "manatees = [{'name': 'Suguru', 'age': 7},]\n",
    "\n",
    "def example1(manatees):\n",
    "    for manatee in manatees:\n",
    "        print(manatee['name'])\n",
    "\n",
    "example1(manatees)\n",
    "\n",
    "#Since manatees has n elements, the time complexity will simply be O(n)\n"
   ]
  },
  {
   "cell_type": "code",
   "execution_count": 29,
   "metadata": {},
   "outputs": [
    {
     "output_type": "stream",
     "name": "stdout",
     "text": [
      "Suguru\n7\n"
     ]
    }
   ],
   "source": [
    "def example2(manatees):\n",
    "    #I do not understand why I am getting a key error for the dictionary\n",
    "    print(manatees[0]['name'])\n",
    "    print(manatees[0]['age'])\n",
    "\n",
    "example2(manatees)\n",
    "\n",
    "#Since we aren't iterating over anything and we are just looking up on dictionaries and printing, the complexity is O(1)\n"
   ]
  },
  {
   "cell_type": "code",
   "execution_count": 35,
   "metadata": {},
   "outputs": [
    {
     "output_type": "stream",
     "name": "stdout",
     "text": [
      "name :  Suguru\nage :  7\n"
     ]
    }
   ],
   "source": [
    "def example3(manatees):\n",
    "    for manatee in manatees:\n",
    "        for manatee_property in manatee:\n",
    "            print(manatee_property, \": \", manatee[manatee_property])\n",
    "\n",
    "example3(manatees)\n",
    "\n",
    "#Since we are first iterating over the number of elements in manatees then iterating over the number of properties (key, value) in in the dictionary, the time complexity is O(nm) when m represents the number of properties. "
   ]
  },
  {
   "cell_type": "code",
   "execution_count": 38,
   "metadata": {},
   "outputs": [
    {
     "output_type": "stream",
     "name": "stdout",
     "text": [
      "Suguru\n"
     ]
    }
   ],
   "source": [
    "def example4(manatees):\n",
    "    oldest_manatee = \"No manatees here!\"\n",
    "    for manatee1 in manatees:\n",
    "        for manatee2 in manatees:\n",
    "            if manatee1['age'] < manatee2['age']:\n",
    "                oldest_manatee = manatee2['name']\n",
    "            else:\n",
    "                oldest_manatee = manatee1['name']\n",
    "    print(oldest_manatee)\n",
    "\n",
    "example4(manatees)\n",
    "'''\n",
    "We are first iterating over the manatees list: O(n)\n",
    "Then we are again iterating over every item in the manatees list: O(n^2)\n",
    "\n",
    "'''"
   ]
  }
 ]
}