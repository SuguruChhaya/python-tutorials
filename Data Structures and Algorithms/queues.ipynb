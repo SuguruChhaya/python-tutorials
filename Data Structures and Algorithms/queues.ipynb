{
 "metadata": {
  "language_info": {
   "codemirror_mode": {
    "name": "ipython",
    "version": 3
   },
   "file_extension": ".py",
   "mimetype": "text/x-python",
   "name": "python",
   "nbconvert_exporter": "python",
   "pygments_lexer": "ipython3",
   "version": "3.9.1-final"
  },
  "orig_nbformat": 2,
  "kernelspec": {
   "name": "python3",
   "display_name": "Python 3.9.1 64-bit",
   "metadata": {
    "interpreter": {
     "hash": "2dc8e386e97f23e67acaeb3d537162f96201c1caab10bc6a07b46ad5eff94fc1"
    }
   }
  }
 },
 "nbformat": 4,
 "nbformat_minor": 2,
 "cells": [
  {
   "cell_type": "code",
   "execution_count": 3,
   "metadata": {},
   "outputs": [
    {
     "output_type": "stream",
     "name": "stdout",
     "text": [
      "1\n1\n2\n3\n4\n5\n"
     ]
    },
    {
     "output_type": "execute_result",
     "data": {
      "text/plain": [
       "'\\nCorrect output\\n1\\n1\\n2\\n3\\n4\\n5\\n'"
      ]
     },
     "metadata": {},
     "execution_count": 3
    }
   ],
   "source": [
    "\"\"\"Make a Queue class using a list!\n",
    "Hint: You can use any Python list method\n",
    "you'd like! Try to write each one in as \n",
    "few lines as possible.\n",
    "Make sure you pass the test cases too!\"\"\"\n",
    "\n",
    "class Queue:\n",
    "    def __init__(self, head=None):\n",
    "        self.storage = [head]\n",
    "\n",
    "    def enqueue(self, new_element):\n",
    "        self.storage.append(new_element)\n",
    "\n",
    "    def peek(self):\n",
    "        return self.storage[0]\n",
    "\n",
    "    def dequeue(self):\n",
    "        temp = self.storage[0]\n",
    "        del(self.storage[0])\n",
    "        return temp\n",
    "    \n",
    "# Setup\n",
    "q = Queue(1)\n",
    "q.enqueue(2)\n",
    "q.enqueue(3)\n",
    "\n",
    "# Test peek\n",
    "# Should be 1\n",
    "print(q.peek())\n",
    "\n",
    "# Test dequeue\n",
    "# Should be 1\n",
    "print(q.dequeue())\n",
    "\n",
    "# Test enqueue\n",
    "q.enqueue(4)\n",
    "# Should be 2\n",
    "print(q.dequeue())\n",
    "# Should be 3\n",
    "print(q.dequeue())\n",
    "# Should be 4\n",
    "print(q.dequeue())\n",
    "q.enqueue(5)\n",
    "# Should be 5\n",
    "print(q.peek())\n",
    "\n",
    "'''\n",
    "Correct output\n",
    "1\n",
    "1\n",
    "2\n",
    "3\n",
    "4\n",
    "5\n",
    "'''"
   ]
  },
  {
   "cell_type": "code",
   "execution_count": 20,
   "metadata": {},
   "outputs": [
    {
     "output_type": "stream",
     "name": "stdout",
     "text": [
      "b\n[['value: a, priority: 1'], ['value: c, priority: 1']]\na\n[['value: c, priority: 1']]\n"
     ]
    }
   ],
   "source": [
    "#A priority queue class\n",
    "\n",
    "class PriorityQueue:\n",
    "    def __init__(self, head=None):\n",
    "        self.head = head\n",
    "        self.storage = [self.head]\n",
    "\n",
    "    def enqueue(self, new_element):\n",
    "        self.storage.append(new_element)\n",
    "\n",
    "    def peek(self):\n",
    "        return self.storage[0]\n",
    "\n",
    "    def dequeue(self):\n",
    "        deleted_element = self.storage[0]\n",
    "        for element in self.storage:\n",
    "            if element.priority > deleted_element.priority:\n",
    "                deleted_element = element \n",
    "        self.storage.remove(deleted_element)\n",
    "        return deleted_element.value\n",
    "\n",
    "    def show(self):\n",
    "        outputList = []\n",
    "        for element in self.storage:\n",
    "            outputList.append([f\"value: {element.value}, priority: {element.priority}\"])\n",
    "        print(outputList)\n",
    "\n",
    "\n",
    "class Element:\n",
    "    def __init__(self, value, priority):\n",
    "        self.value = value\n",
    "        self.priority = priority\n",
    "\n",
    "a = Element('a', 1)\n",
    "b = Element('b', 2)\n",
    "c = Element('c', 1)\n",
    "\n",
    "queue = PriorityQueue(a)\n",
    "queue.enqueue(b)\n",
    "queue.enqueue(c)\n",
    "print(queue.dequeue())\n",
    "queue.show()\n",
    "print(queue.dequeue())\n",
    "queue.show()\n"
   ]
  }
 ]
}