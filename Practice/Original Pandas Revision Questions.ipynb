{
 "cells": [
  {
   "cell_type": "code",
   "execution_count": null,
   "metadata": {},
   "outputs": [],
   "source": [
    "# Pre-defined lists\n",
    "names = ['United States', 'Australia', 'Japan', 'India', 'Russia', 'Morocco', 'Egypt']\n",
    "dr =  [True, False, False, False, True, True, True]\n",
    "cpc = [809, 731, 588, 18, 200, 70, 45]\n",
    "\n",
    "#Using a dictionary, build a Pandas Dataframe cars with the names corresponding to 'country', dr with 'drives_right'\n",
    "#and cpc as cars_per_cap\n",
    "\n",
    "#The following is the row label, replace the first column with the labels.\n",
    "row_labels = ['US', 'AUS', 'JPN', 'IN', 'RU', 'MOR', 'EG']\n",
    "\n"
   ]
  },
  {
   "cell_type": "code",
   "execution_count": null,
   "metadata": {},
   "outputs": [],
   "source": [
    "#import the csv file C:/Users/sugur.LAPTOP-3N7FMET3.000/Documents/cars2.csv as 'cars'. Then set row_labels to be the index.\n",
    "#For future note, when importing a csv file, do not include spaces between items. Then add the row labels right.\n",
    "\n",
    "#Print country column as a pandas series\n",
    "\n",
    "#Print country column as a pandas dataframe\n",
    "\n",
    "# Print out DataFrame with drives_right and cars_per_cap columns\n",
    "\n",
    "#Print out first three observations as a pandas series\n",
    "\n",
    "# Print out observations for Australia and Egypt. #Note that you have to use double square brackets or you get an error. \n",
    "#This means you can only print a Pandas DataFrame. Make sure that the rows comes first them the columns.\n",
    "\n",
    "#Print a pandas series of the third row .\n",
    "\n",
    "#Print the cars_per_cap and country for India and Russia\n",
    "\n",
    "#Print the 3rd column of the 1st and 2nd row as a pandas series\n",
    "\n",
    "#Print the whole drives right column as a Pandas dataframe\n"
   ]
  }
 ],
 "metadata": {
  "kernelspec": {
   "display_name": "Python 3",
   "language": "python",
   "name": "python3"
  },
  "language_info": {
   "codemirror_mode": {
    "name": "ipython",
    "version": 3
   },
   "file_extension": ".py",
   "mimetype": "text/x-python",
   "name": "python",
   "nbconvert_exporter": "python",
   "pygments_lexer": "ipython3",
   "version": "3.7.6"
  },
  "toc": {
   "base_numbering": 1,
   "nav_menu": {},
   "number_sections": true,
   "sideBar": true,
   "skip_h1_title": false,
   "title_cell": "Table of Contents",
   "title_sidebar": "Contents",
   "toc_cell": false,
   "toc_position": {},
   "toc_section_display": true,
   "toc_window_display": false
  },
  "varInspector": {
   "cols": {
    "lenName": 16,
    "lenType": 16,
    "lenVar": 40
   },
   "kernels_config": {
    "python": {
     "delete_cmd_postfix": "",
     "delete_cmd_prefix": "del ",
     "library": "var_list.py",
     "varRefreshCmd": "print(var_dic_list())"
    },
    "r": {
     "delete_cmd_postfix": ") ",
     "delete_cmd_prefix": "rm(",
     "library": "var_list.r",
     "varRefreshCmd": "cat(var_dic_list()) "
    }
   },
   "types_to_exclude": [
    "module",
    "function",
    "builtin_function_or_method",
    "instance",
    "_Feature"
   ],
   "window_display": false
  }
 },
 "nbformat": 4,
 "nbformat_minor": 4
}
