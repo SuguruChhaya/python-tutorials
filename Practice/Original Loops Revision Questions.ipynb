{
 "cells": [
  {
   "cell_type": "code",
   "execution_count": null,
   "metadata": {},
   "outputs": [],
   "source": [
    "#Print a list of booleans using numpy for which my_house > your_house.\n",
    "my = [18.0, 20.0, 10.75, 9.50]\n",
    "your = [14.0, 24.0, 14.25, 9.0]\n",
    "\n",
    "\n",
    "#Now print a list of booleans whether my_house greater than 18.5 or smaller than 10 using numpy\n",
    "\n",
    "\n",
    "## Both my_house and your_house smaller than 11\n"
   ]
  },
  {
   "cell_type": "code",
   "execution_count": null,
   "metadata": {},
   "outputs": [],
   "source": [
    "#Now open read the csv file from C:/Users/sugur.LAPTOP-3N7FMET3.000/Documents/cars5.\n",
    "#Also, whenever a csv file is imported using pandas, it is in type dataframe.\n",
    "row_labels = ['US', 'AUS', 'JPN', 'IN', 'RU', 'MOR', 'EG']\n",
    "\n",
    "\n",
    "#Now make a list of booleans which the country drives right\n",
    "\n",
    "\n",
    "#Print the rows which has a cars per capita over 500\n",
    "\n",
    "\n",
    "\n",
    "# Iterate over rows of cars and print all the elements to produce a Pandas script\n",
    "\n",
    "    \n",
    "#Add the new column COUNTRY by making all items in country upper case\n",
    "\n",
    "\n",
    "#Change the COUNTRY column so the items are all in lower case, this time using a simpler method\n",
    "    "
   ]
  },
  {
   "cell_type": "code",
   "execution_count": null,
   "metadata": {},
   "outputs": [],
   "source": [
    "# areas list\n",
    "areas = [11.25, 18.0, 20.0, 10.75, 9.50]\n",
    "\n",
    "#Create a for loop that prints all the rooms in areas. Use a function to print the count of the item printed in a for loop.\n"
   ]
  },
  {
   "cell_type": "code",
   "execution_count": null,
   "metadata": {},
   "outputs": [],
   "source": [
    "# Definition of dictionary\n",
    "europe = {'spain':'madrid', 'france':'paris', 'germany':'berlin',\n",
    "          'norway':'oslo', 'italy':'rome', 'poland':'warsaw', 'austria':'vienna' }\n",
    "\n",
    "#Now iterate over the values and print 'spain: madrid' using a for loop\n"
   ]
  },
  {
   "cell_type": "code",
   "execution_count": null,
   "metadata": {},
   "outputs": [],
   "source": [
    "seq = [[0,1,2], [3,4,5], [6,7,8]]\n",
    "#First use numpy to print all elements in the 2D numpy array, seq\n",
    "\n",
    "\n",
    "#Then use normal format to print all elements\n"
   ]
  }
 ],
 "metadata": {
  "kernelspec": {
   "display_name": "Python 3",
   "language": "python",
   "name": "python3"
  },
  "language_info": {
   "codemirror_mode": {
    "name": "ipython",
    "version": 3
   },
   "file_extension": ".py",
   "mimetype": "text/x-python",
   "name": "python",
   "nbconvert_exporter": "python",
   "pygments_lexer": "ipython3",
   "version": "3.7.6"
  },
  "toc": {
   "base_numbering": 1,
   "nav_menu": {},
   "number_sections": true,
   "sideBar": true,
   "skip_h1_title": false,
   "title_cell": "Table of Contents",
   "title_sidebar": "Contents",
   "toc_cell": false,
   "toc_position": {},
   "toc_section_display": true,
   "toc_window_display": false
  },
  "varInspector": {
   "cols": {
    "lenName": 16,
    "lenType": 16,
    "lenVar": 40
   },
   "kernels_config": {
    "python": {
     "delete_cmd_postfix": "",
     "delete_cmd_prefix": "del ",
     "library": "var_list.py",
     "varRefreshCmd": "print(var_dic_list())"
    },
    "r": {
     "delete_cmd_postfix": ") ",
     "delete_cmd_prefix": "rm(",
     "library": "var_list.r",
     "varRefreshCmd": "cat(var_dic_list()) "
    }
   },
   "types_to_exclude": [
    "module",
    "function",
    "builtin_function_or_method",
    "instance",
    "_Feature"
   ],
   "window_display": false
  }
 },
 "nbformat": 4,
 "nbformat_minor": 4
}
