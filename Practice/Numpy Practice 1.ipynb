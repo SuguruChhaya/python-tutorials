{
 "cells": [
  {
   "cell_type": "markdown",
   "metadata": {},
   "source": [
    "# Regular Numpy Arrays"
   ]
  },
  {
   "cell_type": "code",
   "execution_count": 2,
   "metadata": {},
   "outputs": [
    {
     "output_type": "stream",
     "name": "stdout",
     "text": "[180 215 210 210 188 176 209 200]\n"
    }
   ],
   "source": [
    "baseball = [180, 215, 210, 210, 188, 176, 209, 200]\n",
    "#Covert this into a numpy array and store it as np_height_cm\n",
    "import numpy as np\n",
    "np_height_cm = np.array(baseball)\n",
    "print(np_height_cm)"
   ]
  },
  {
   "cell_type": "code",
   "execution_count": null,
   "metadata": {},
   "outputs": [],
   "source": [
    "#np_height_cm is the height in cm. Convert to inches and store as np_height_in by dividing by 2.54. \n",
    "#Convert to m and store as np_height_m.\n",
    "np_height_in = np_height_cm / 2.54\n",
    "np_height_m = np_height_cm / 100\n",
    "print(np_height_in)\n",
    "print(np_height_m)"
   ]
  },
  {
   "cell_type": "code",
   "execution_count": null,
   "metadata": {
    "collapsed": true
   },
   "outputs": [],
   "source": [
    "weight_lb = [140, 141, 142, 143, 144, 145, 146, 147]\n",
    "#First, convert this into a numpy array and store as np_weight_lb. Then convert to kg and store as np_weight_kg. \n",
    "np_weight_lb = np.array(weight_lb)\n",
    "np_weight_kg = np_weight_lb / 2.2\n",
    "print(np_weight_kg)\n",
    "#Then calculate bmi by bmi = np_weight_kg / np_height_m ** 2 and print it.\n",
    "bmi = np_weight_kg / np_height_m ** 2\n",
    "print(bmi)"
   ]
  },
  {
   "cell_type": "code",
   "execution_count": null,
   "metadata": {},
   "outputs": [],
   "source": [
    "#filter bmi values which are less than 16\n",
    "light = bmi < 16\n",
    "print(bmi[light])"
   ]
  },
  {
   "cell_type": "code",
   "execution_count": null,
   "metadata": {},
   "outputs": [],
   "source": [
    "#True = 1 and False = 0. Using this, add 2 numpy arrays to create [4 5 2]"
   ]
  },
  {
   "cell_type": "markdown",
   "metadata": {},
   "source": [
    "# 2D Numpy Arrays"
   ]
  },
  {
   "cell_type": "code",
   "execution_count": null,
   "metadata": {},
   "outputs": [],
   "source": [
    "#height, weight, age\n",
    "baseball = [[180, 78.4, 25],\n",
    "            [215, 102.7, 26],\n",
    "            [210, 98.5, 28],\n",
    "            [188, 75.2, 29]]\n",
    "\n",
    "#Make a 2D numpy array np_baseball and print the type and shape of it. \n",
    "np_baseball = np.array(baseball)\n",
    "print(type(np_baseball))\n",
    "print(np_baseball.shape)\n"
   ]
  },
  {
   "cell_type": "code",
   "execution_count": null,
   "metadata": {},
   "outputs": [],
   "source": [
    "#Using the same np_baseball array, print the entire third row.\n",
    "print(np_baseball[2,:])\n",
    "#Print the entire second column\n",
    "print(np_baseball[:,1])\n",
    "#Print the age of the 4th player.\n",
    "print(np_baseball[3,2])"
   ]
  },
  {
   "cell_type": "code",
   "execution_count": null,
   "metadata": {},
   "outputs": [],
   "source": [
    "#Creaty a numpy array \"conversion\" with the values [1/ 2.54, 2.2, 1] to convert the values in baseball to different units.\n",
    "conversion = np.array([1/ 2.54, 2.2, 1])\n",
    "print(np_baseball * conversion)\n"
   ]
  },
  {
   "cell_type": "markdown",
   "metadata": {},
   "source": [
    "# Average, Median, and what not"
   ]
  },
  {
   "cell_type": "code",
   "execution_count": null,
   "metadata": {},
   "outputs": [],
   "source": [
    "#Make a new numpy array of just the height column. Then print the mean of the values.\n",
    "print(np.mean(np_baseball[:,0]))\n",
    "#Print the median of the values in the second row.\n",
    "print(np.median(np_baseball[1,:]))\n",
    "#Print the standard deviation in of the weight\n",
    "print(np.std(np_baseball[:,1]))\n",
    "#print the correlation coefficient between the height and the weight\n",
    "print(np.corrcoef(np_baseball[:,0], np_baseball[:,1]))"
   ]
  }
 ],
 "metadata": {
  "kernelspec": {
   "display_name": "Python 3",
   "language": "python",
   "name": "python3"
  },
  "language_info": {
   "codemirror_mode": {
    "name": "ipython",
    "version": 3
   },
   "file_extension": ".py",
   "mimetype": "text/x-python",
   "name": "python",
   "nbconvert_exporter": "python",
   "pygments_lexer": "ipython3",
   "version": "3.7.6-final"
  },
  "toc": {
   "base_numbering": 1,
   "nav_menu": {},
   "number_sections": true,
   "sideBar": true,
   "skip_h1_title": false,
   "title_cell": "Table of Contents",
   "title_sidebar": "Contents",
   "toc_cell": false,
   "toc_position": {},
   "toc_section_display": true,
   "toc_window_display": false
  },
  "varInspector": {
   "cols": {
    "lenName": 16,
    "lenType": 16,
    "lenVar": 40
   },
   "kernels_config": {
    "python": {
     "delete_cmd_postfix": "",
     "delete_cmd_prefix": "del ",
     "library": "var_list.py",
     "varRefreshCmd": "print(var_dic_list())"
    },
    "r": {
     "delete_cmd_postfix": ") ",
     "delete_cmd_prefix": "rm(",
     "library": "var_list.r",
     "varRefreshCmd": "cat(var_dic_list()) "
    }
   },
   "types_to_exclude": [
    "module",
    "function",
    "builtin_function_or_method",
    "instance",
    "_Feature"
   ],
   "window_display": false
  }
 },
 "nbformat": 4,
 "nbformat_minor": 4
}