{
 "cells": [
  {
   "cell_type": "code",
   "execution_count": 3,
   "metadata": {},
   "outputs": [
    {
     "name": "stdout",
     "output_type": "stream",
     "text": [
      "[ True False False  True]\n",
      "[False  True False  True]\n",
      "[False False False  True]\n"
     ]
    }
   ],
   "source": [
    "#Print a list of booleans using numpy for which my_house > your_house.\n",
    "my = [18.0, 20.0, 10.75, 9.50]\n",
    "your = [14.0, 24.0, 14.25, 9.0]\n",
    "import numpy as np\n",
    "my_house = np.array(my)\n",
    "your_house = np.array(your)\n",
    "print(my_house > your_house)\n",
    "\n",
    "#Now print a list of booleans whether my_house greater than 18.5 or smaller than 10 using numpy\n",
    "print(np.logical_or(my_house > 18.5, my_house < 10))\n",
    "\n",
    "## Both my_house and your_house smaller than 11\n",
    "print(np.logical_and(my_house < 11, your_house < 11))"
   ]
  },
  {
   "cell_type": "code",
   "execution_count": 13,
   "metadata": {},
   "outputs": [
    {
     "name": "stdout",
     "output_type": "stream",
     "text": [
      "           country  drives_right  cars_per_cap\n",
      "US   United States          True           809\n",
      "AUS      Australia         False           731\n",
      "JPN          Japan         False           588\n",
      "IN           India         False            18\n",
      "RU          Russia          True           200\n",
      "MOR        Morocco          True            70\n",
      "EG           Egypt          True            45\n",
      "           country  drives_right  cars_per_cap\n",
      "US   United States          True           809\n",
      "RU          Russia          True           200\n",
      "MOR        Morocco          True            70\n",
      "EG           Egypt          True            45\n",
      "           country  drives_right  cars_per_cap\n",
      "US   United States          True           809\n",
      "AUS      Australia         False           731\n",
      "JPN          Japan         False           588\n",
      "US\n",
      "country         United States\n",
      "drives_right             True\n",
      "cars_per_cap              809\n",
      "Name: US, dtype: object\n",
      "AUS\n",
      "country         Australia\n",
      "drives_right        False\n",
      "cars_per_cap          731\n",
      "Name: AUS, dtype: object\n",
      "JPN\n",
      "country         Japan\n",
      "drives_right    False\n",
      "cars_per_cap      588\n",
      "Name: JPN, dtype: object\n",
      "IN\n",
      "country         India\n",
      "drives_right    False\n",
      "cars_per_cap       18\n",
      "Name: IN, dtype: object\n",
      "RU\n",
      "country         Russia\n",
      "drives_right      True\n",
      "cars_per_cap       200\n",
      "Name: RU, dtype: object\n",
      "MOR\n",
      "country         Morocco\n",
      "drives_right       True\n",
      "cars_per_cap         70\n",
      "Name: MOR, dtype: object\n",
      "EG\n",
      "country         Egypt\n",
      "drives_right     True\n",
      "cars_per_cap       45\n",
      "Name: EG, dtype: object\n",
      "           country  drives_right  cars_per_cap        COUNTRY\n",
      "US   United States          True           809  UNITED STATES\n",
      "AUS      Australia         False           731      AUSTRALIA\n",
      "JPN          Japan         False           588          JAPAN\n",
      "IN           India         False            18          INDIA\n",
      "RU          Russia          True           200         RUSSIA\n",
      "MOR        Morocco          True            70        MOROCCO\n",
      "EG           Egypt          True            45          EGYPT\n",
      "           country  drives_right  cars_per_cap        COUNTRY\n",
      "US   United States          True           809  united states\n",
      "AUS      Australia         False           731      australia\n",
      "JPN          Japan         False           588          japan\n",
      "IN           India         False            18          india\n",
      "RU          Russia          True           200         russia\n",
      "MOR        Morocco          True            70        morocco\n",
      "EG           Egypt          True            45          egypt\n"
     ]
    }
   ],
   "source": [
    "#Now open read the csv file from C:/Users/sugur.LAPTOP-3N7FMET3.000/Documents/cars5.\n",
    "#Also, whenever a csv file is imported using pandas, it is in type dataframe.\n",
    "row_labels = ['US', 'AUS', 'JPN', 'IN', 'RU', 'MOR', 'EG']\n",
    "import pandas as pd \n",
    "cars = pd.read_csv(\"C:/Users/sugur.LAPTOP-3N7FMET3.000/Documents/cars5.csv\")\n",
    "cars.index = row_labels\n",
    "print(cars)\n",
    "\n",
    "#Now make a list of booleans which the country drives right\n",
    "print(cars[cars['drives_right'] == True])\n",
    "\n",
    "#Print the rows which has a cars per capita over 500\n",
    "print(cars[cars['cars_per_cap'] > 500])# areas list\n",
    "\n",
    "\n",
    "# Iterate over rows of cars and print all the elements to produce a Pandas script\n",
    "for labs, rows in cars.iterrows():\n",
    "    print(labs)\n",
    "    print(rows)\n",
    "    \n",
    "#Add the new column COUNTRY by making all items in country upper case\n",
    "for labs, rows in cars.iterrows():\n",
    "    cars.loc[labs, 'COUNTRY'] = rows['country'].upper()\n",
    "\n",
    "print(cars)\n",
    "\n",
    "#Change the COUNTRY column so the items are all in lower case, this time using a simpler method\n",
    "    \n",
    "cars[\"COUNTRY\"] = cars[\"country\"].apply(str.lower)\n",
    "print(cars)\n",
    "    \n",
    "\n",
    "    "
   ]
  },
  {
   "cell_type": "code",
   "execution_count": 24,
   "metadata": {},
   "outputs": [
    {
     "name": "stdout",
     "output_type": "stream",
     "text": [
      "room 1: 11.25\n",
      "room 2: 18.0\n",
      "room 3: 20.0\n",
      "room 4: 10.75\n",
      "room 5: 9.5\n"
     ]
    }
   ],
   "source": [
    "# areas list\n",
    "areas = [11.25, 18.0, 20.0, 10.75, 9.50]\n",
    "\n",
    "#Create a for loop that prints all the rooms in areas. Use a function to print the count of the item printed in a for loop.\n",
    "for numbers, rooms in enumerate(areas):\n",
    "    print( \"room \" + str(numbers + 1) + \": \" + str(rooms))"
   ]
  },
  {
   "cell_type": "code",
   "execution_count": 27,
   "metadata": {},
   "outputs": [
    {
     "name": "stdout",
     "output_type": "stream",
     "text": [
      "spain: madrid\n",
      "france: paris\n",
      "germany: berlin\n",
      "norway: oslo\n",
      "italy: rome\n",
      "poland: warsaw\n",
      "austria: vienna\n"
     ]
    }
   ],
   "source": [
    "# Definition of dictionary\n",
    "europe = {'spain':'madrid', 'france':'paris', 'germany':'berlin',\n",
    "          'norway':'oslo', 'italy':'rome', 'poland':'warsaw', 'austria':'vienna' }\n",
    "\n",
    "#Now iterate over the values and print 'spain: madrid' using a for loop\n",
    "for key, value in europe.items():\n",
    "    print(key + \": \" + value)"
   ]
  },
  {
   "cell_type": "code",
   "execution_count": 36,
   "metadata": {
    "collapsed": true
   },
   "outputs": [
    {
     "name": "stdout",
     "output_type": "stream",
     "text": [
      "0\n",
      "1\n",
      "2\n",
      "3\n",
      "4\n",
      "5\n",
      "6\n",
      "7\n",
      "8\n",
      "0\n",
      "1\n",
      "2\n",
      "3\n",
      "4\n",
      "5\n",
      "6\n",
      "7\n",
      "8\n"
     ]
    }
   ],
   "source": [
    "seq = [[0,1,2], [3,4,5], [6,7,8]]\n",
    "#First use numpy to print all elements in the 2D numpy array, seq\n",
    "np_seq = np.array(seq)\n",
    "for x in np.nditer(np_seq):\n",
    "    print(x)\n",
    "\n",
    "#Then use normal format to print all elements\n",
    "for y in seq:\n",
    "    for z in y:\n",
    "        print(z)\n",
    "    \n"
   ]
  }
 ],
 "metadata": {
  "kernelspec": {
   "display_name": "Python 3",
   "language": "python",
   "name": "python3"
  },
  "language_info": {
   "codemirror_mode": {
    "name": "ipython",
    "version": 3
   },
   "file_extension": ".py",
   "mimetype": "text/x-python",
   "name": "python",
   "nbconvert_exporter": "python",
   "pygments_lexer": "ipython3",
   "version": "3.7.6"
  },
  "toc": {
   "base_numbering": 1,
   "nav_menu": {},
   "number_sections": true,
   "sideBar": true,
   "skip_h1_title": false,
   "title_cell": "Table of Contents",
   "title_sidebar": "Contents",
   "toc_cell": false,
   "toc_position": {},
   "toc_section_display": true,
   "toc_window_display": false
  },
  "varInspector": {
   "cols": {
    "lenName": 16,
    "lenType": 16,
    "lenVar": 40
   },
   "kernels_config": {
    "python": {
     "delete_cmd_postfix": "",
     "delete_cmd_prefix": "del ",
     "library": "var_list.py",
     "varRefreshCmd": "print(var_dic_list())"
    },
    "r": {
     "delete_cmd_postfix": ") ",
     "delete_cmd_prefix": "rm(",
     "library": "var_list.r",
     "varRefreshCmd": "cat(var_dic_list()) "
    }
   },
   "position": {
    "height": "144.86px",
    "left": "1131px",
    "right": "20px",
    "top": "135px",
    "width": "350px"
   },
   "types_to_exclude": [
    "module",
    "function",
    "builtin_function_or_method",
    "instance",
    "_Feature"
   ],
   "window_display": false
  }
 },
 "nbformat": 4,
 "nbformat_minor": 4
}
