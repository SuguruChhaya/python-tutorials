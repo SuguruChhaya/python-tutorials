{
 "cells": [
  {
   "cell_type": "markdown",
   "metadata": {},
   "source": [
    "# Regular Numpy Arrays"
   ]
  },
  {
   "cell_type": "code",
   "execution_count": 4,
   "metadata": {},
   "outputs": [
    {
     "name": "stdout",
     "output_type": "stream",
     "text": [
      "[180 215 210 210 188 176 209 200]\n"
     ]
    }
   ],
   "source": [
    "baseball = [180, 215, 210, 210, 188, 176, 209, 200]\n",
    "#Covert this into a numpy array and store it as np_height_cm\n",
    "import numpy as np\n",
    "np_height_cm = np.array(baseball)\n",
    "print(np_height_cm)"
   ]
  },
  {
   "cell_type": "code",
   "execution_count": 5,
   "metadata": {},
   "outputs": [
    {
     "name": "stdout",
     "output_type": "stream",
     "text": [
      "[70.86614173 84.64566929 82.67716535 82.67716535 74.01574803 69.29133858\n",
      " 82.28346457 78.74015748]\n",
      "[1.8  2.15 2.1  2.1  1.88 1.76 2.09 2.  ]\n"
     ]
    }
   ],
   "source": [
    "#np_height_cm is the height in cm. Convert to inches and store as np_height_in by dividing by 2.54. \n",
    "#Convert to m and store as np_height_m.\n",
    "np_height_in = np_height_cm / 2.54\n",
    "np_height_m = np_height_cm / 100\n",
    "print(np_height_in)\n",
    "print(np_height_m)"
   ]
  },
  {
   "cell_type": "code",
   "execution_count": 6,
   "metadata": {},
   "outputs": [
    {
     "name": "stdout",
     "output_type": "stream",
     "text": [
      "[63.63636364 64.09090909 64.54545455 65.         65.45454545 65.90909091\n",
      " 66.36363636 66.81818182]\n",
      "[19.64085297 13.86498845 14.63615749 14.73922902 18.51928063 21.27746995\n",
      " 15.19279237 16.70454545]\n"
     ]
    }
   ],
   "source": [
    "weight_lb = [140, 141, 142, 143, 144, 145, 146, 147]\n",
    "#First, convert this into a numpy array and store as np_weight_lb. \n",
    "#hen convert to kg and store as np_weight_kg by dividing by 2.2\n",
    "import numpy as np\n",
    "np_weight_kg = np.array(weight_lb) / 2.2\n",
    "print(np_weight_kg)\n",
    "#Then calculate bmi by bmi = np_weight_kg / np_height_m ** 2 and print it.\n",
    "bmi = np_weight_kg / np_height_m ** 2\n",
    "print(bmi)"
   ]
  },
  {
   "cell_type": "code",
   "execution_count": 7,
   "metadata": {},
   "outputs": [
    {
     "name": "stdout",
     "output_type": "stream",
     "text": [
      "[13.86498845 14.63615749 14.73922902 15.19279237]\n"
     ]
    }
   ],
   "source": [
    "#filter bmi values which are less than 16\n",
    "light = bmi < 16\n",
    "print(bmi[light])"
   ]
  },
  {
   "cell_type": "code",
   "execution_count": 8,
   "metadata": {},
   "outputs": [
    {
     "name": "stdout",
     "output_type": "stream",
     "text": [
      "[4 5 2]\n"
     ]
    }
   ],
   "source": [
    "#True = 1 and False = 0. Using this, add 2 numpy arrays to creat [4 5 2]\n",
    "print(np.array([True, 5, 2]) + np.array([3, False, False]))"
   ]
  },
  {
   "cell_type": "markdown",
   "metadata": {},
   "source": [
    "# 2D Numpy Arrays"
   ]
  },
  {
   "cell_type": "code",
   "execution_count": 9,
   "metadata": {},
   "outputs": [
    {
     "name": "stdout",
     "output_type": "stream",
     "text": [
      "<class 'numpy.ndarray'>\n",
      "(4, 3)\n"
     ]
    }
   ],
   "source": [
    "baseball = [[180, 78.4, 25],\n",
    "            [215, 102.7, 26],\n",
    "            [210, 98.5, 28],\n",
    "            [188, 75.2, 29]]\n",
    "\n",
    "#Make a 2D numpy array np_baseball and print the type and shape of it. \n",
    "import numpy as np\n",
    "np_baseball = np.array(baseball)\n",
    "print(type(np_baseball))\n",
    "print(np_baseball.shape)\n",
    "\n"
   ]
  },
  {
   "cell_type": "code",
   "execution_count": 10,
   "metadata": {},
   "outputs": [
    {
     "name": "stdout",
     "output_type": "stream",
     "text": [
      "[210.   98.5  28. ]\n",
      "[ 78.4 102.7  98.5  75.2]\n",
      "29.0\n"
     ]
    }
   ],
   "source": [
    "#Using the same np_baseball array, print the entire third row.\n",
    "import numpy as np\n",
    "print(np_baseball[2,:])\n",
    "#Print the entire second column\n",
    "print(np_baseball[:,1])\n",
    "#Print the name of the 4th player.\n",
    "print(np_baseball[3,2])"
   ]
  },
  {
   "cell_type": "code",
   "execution_count": 11,
   "metadata": {},
   "outputs": [
    {
     "name": "stdout",
     "output_type": "stream",
     "text": [
      "[[ 70.86614173 172.48        25.        ]\n",
      " [ 84.64566929 225.94        26.        ]\n",
      " [ 82.67716535 216.7         28.        ]\n",
      " [ 74.01574803 165.44        29.        ]]\n"
     ]
    }
   ],
   "source": [
    "conversion = np.array([1/2.54, 2.2, 1])\n",
    "print(np_baseball * conversion)"
   ]
  },
  {
   "cell_type": "markdown",
   "metadata": {},
   "source": [
    "# Average, Median, and what not"
   ]
  },
  {
   "cell_type": "code",
   "execution_count": 12,
   "metadata": {},
   "outputs": [
    {
     "name": "stdout",
     "output_type": "stream",
     "text": [
      "198.25\n",
      "102.7\n",
      "12.045538593188764\n",
      "[[1.         0.95865738]\n",
      " [0.95865738 1.        ]]\n"
     ]
    }
   ],
   "source": [
    "#Make a new numpy array of just the height column. Then print the mean of the values.\n",
    "import numpy as np\n",
    "print(np.mean(np_baseball[:,0]))\n",
    "\n",
    "#Print the median of the values in the second row.\n",
    "print(np.median(np_baseball[1,:]))\n",
    "\n",
    "#Print the standard deviation of the weight\n",
    "print(np.std(np_baseball[:,1]))\n",
    "\n",
    "#print the correlation between the height and the weight\n",
    "print(np.corrcoef(np_baseball[:,0], np_baseball[:,1]))"
   ]
  }
 ],
 "metadata": {
  "kernelspec": {
   "display_name": "Python 3",
   "language": "python",
   "name": "python3"
  },
  "language_info": {
   "codemirror_mode": {
    "name": "ipython",
    "version": 3
   },
   "file_extension": ".py",
   "mimetype": "text/x-python",
   "name": "python",
   "nbconvert_exporter": "python",
   "pygments_lexer": "ipython3",
   "version": "3.7.6"
  },
  "toc": {
   "base_numbering": 1,
   "nav_menu": {},
   "number_sections": true,
   "sideBar": true,
   "skip_h1_title": false,
   "title_cell": "Table of Contents",
   "title_sidebar": "Contents",
   "toc_cell": false,
   "toc_position": {},
   "toc_section_display": true,
   "toc_window_display": false
  },
  "varInspector": {
   "cols": {
    "lenName": 16,
    "lenType": 16,
    "lenVar": 40
   },
   "kernels_config": {
    "python": {
     "delete_cmd_postfix": "",
     "delete_cmd_prefix": "del ",
     "library": "var_list.py",
     "varRefreshCmd": "print(var_dic_list())"
    },
    "r": {
     "delete_cmd_postfix": ") ",
     "delete_cmd_prefix": "rm(",
     "library": "var_list.r",
     "varRefreshCmd": "cat(var_dic_list()) "
    }
   },
   "types_to_exclude": [
    "module",
    "function",
    "builtin_function_or_method",
    "instance",
    "_Feature"
   ],
   "window_display": false
  }
 },
 "nbformat": 4,
 "nbformat_minor": 4
}
